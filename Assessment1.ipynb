{
  "metadata": {
    "kernelspec": {
      "name": "python",
      "display_name": "Python (Pyodide)",
      "language": "python"
    },
    "language_info": {
      "codemirror_mode": {
        "name": "python",
        "version": 3
      },
      "file_extension": ".py",
      "mimetype": "text/x-python",
      "name": "python",
      "nbconvert_exporter": "python",
      "pygments_lexer": "ipython3",
      "version": "3.8"
    }
  },
  "nbformat_minor": 5,
  "nbformat": 4,
  "cells": [
    {
      "id": "19608287-8199-41cb-8833-981c6820ad14",
      "cell_type": "code",
      "source": "1) A variable name must start with a letter or an underscore character() .A variable name cannot start with a digit.3) A variable name can only contain alpha-numeric characters and underscores(a-z,A-Z,0-9,and_) Variable names are case sensitive (age ,Age and AGE are three different variables) \n",
      "metadata": {
        "trusted": true
      },
      "outputs": [],
      "execution_count": null
    },
    {
      "id": "d25ae8ad-bf9b-4fa6-bf8b-c5b549a31e03",
      "cell_type": "code",
      "source": "if you declare a restricted keyword (also known as reserved keyword ) as a variable in python,you will get a SyntaxError.\nif=10\nprint(if)",
      "metadata": {
        "trusted": true
      },
      "outputs": [],
      "execution_count": null
    },
    {
      "id": "d99f00bd-1928-4dcc-9b47-4e67ea041e02",
      "cell_type": "code",
      "source": "Python reserved keywords have special meanings in the language(e.g,if,else,while,for,def,class,etc).Since they are part of the language's syntax ,they cannot be used as variable names.\nif_value=10\nprint(if_value)",
      "metadata": {
        "trusted": true
      },
      "outputs": [],
      "execution_count": null
    },
    {
      "id": "32f1687b-cf86-4a02-96e6-a8356400da26",
      "cell_type": "markdown",
      "source": "4) It seems like you're asking whether we can use underscore(_)as a variable in an unconventional way.Lets break it down:\n   Using _ as a Variable (possible but Not Recommended)\n   ",
      "metadata": {}
    },
    {
      "id": "45caaa8a-cc6c-4992-9e27-e7ebf7224a99",
      "cell_type": "code",
      "source": "5.You can first store an integer in a variable then later assign a string to the same variable and ython will automatically adjust its type based on the new valueassigned.",
      "metadata": {
        "trusted": true
      },
      "outputs": [],
      "execution_count": null
    }
  ]
}